{
 "cells": [
  {
   "cell_type": "code",
   "execution_count": 14,
   "metadata": {},
   "outputs": [
    {
     "name": "stdout",
     "output_type": "stream",
     "text": [
      "<regex.Match object; span=(10, 11), match='/'>\n",
      "dont match\n"
     ]
    }
   ],
   "source": [
    "import regex as re\n",
    "\n",
    "pattern_date_line = r\"(?<=\\d{1,2}\\/\\d{1,2}\\/\\d{4})\\/\"\n",
    "\n",
    "pattern = re.compile(\"(?<=\\d{1,2}\\/\\d{1,2}\\/\\d{4})\\/\")\n",
    "\n",
    "text = \"24/10/2015/DD/B-ARG/Time-Arg\"\n",
    "\n",
    "match_date_line = pattern.match(text)\n",
    "\n",
    "print(re.search(pattern, text))\n",
    "\n",
    "if match_date_line:\n",
    "    parts = re.split(pattern_date_line, text)\n",
    "    print(parts)\n",
    "else:\n",
    "    print(\"dont match\")"
   ]
  },
  {
   "cell_type": "code",
   "execution_count": 11,
   "metadata": {},
   "outputs": [
    {
     "name": "stdout",
     "output_type": "stream",
     "text": [
      "Dont Match\n"
     ]
    }
   ],
   "source": [
    "if re.match(r\"(?<=\\d{1,2}\\/\\d{1,2}\\/\\d{4})\\/\", \"24/10/2015/DD/B-ARG/Time-Arg\"):\n",
    "    print(\"Match\")\n",
    "else:\n",
    "    print(\"Dont Match\")"
   ]
  },
  {
   "cell_type": "code",
   "execution_count": 16,
   "metadata": {},
   "outputs": [
    {
     "name": "stdout",
     "output_type": "stream",
     "text": [
      "['24/10/2015', 'DD', 'B-ARG', 'Time-Arg']\n"
     ]
    }
   ],
   "source": [
    "import re\n",
    "\n",
    "data = \"24/10/2015/DD/B-ARG/Time-Arg\"\n",
    "\n",
    "pattern = r\"(\\d{1,2}/\\d{1,2}/\\d{4})/(.*)\"\n",
    "\n",
    "result = re.findall(pattern, data)\n",
    "\n",
    "if result:\n",
    "    date = result[0][0]\n",
    "    parts = result[0][1].split('/')\n",
    "    result = [date] + parts\n",
    "\n",
    "print(result)"
   ]
  }
 ],
 "metadata": {
  "kernelspec": {
   "display_name": "Python 3",
   "language": "python",
   "name": "python3"
  },
  "language_info": {
   "codemirror_mode": {
    "name": "ipython",
    "version": 3
   },
   "file_extension": ".py",
   "mimetype": "text/x-python",
   "name": "python",
   "nbconvert_exporter": "python",
   "pygments_lexer": "ipython3",
   "version": "3.9.6"
  },
  "orig_nbformat": 4
 },
 "nbformat": 4,
 "nbformat_minor": 2
}
